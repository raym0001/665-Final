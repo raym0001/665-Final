{
 "cells": [
  {
   "cell_type": "code",
   "execution_count": 1,
   "metadata": {},
   "outputs": [
    {
     "name": "stderr",
     "output_type": "stream",
     "text": [
      "C:\\Users\\raymo\\Anaconda2\\lib\\site-packages\\statsmodels\\compat\\pandas.py:56: FutureWarning: The pandas.core.datetools module is deprecated and will be removed in a future version. Please use the pandas.tseries module instead.\n",
      "  from pandas.core import datetools\n"
     ]
    }
   ],
   "source": [
    "import pandas as pd\n",
    "import numpy as np\n",
    "import seaborn as sns\n",
    "import matplotlib.pyplot as plt\n",
    "%matplotlib inline\n",
    "\n",
    "#regression packages\n",
    "import sklearn.linear_model as lm\n",
    "from sklearn.metrics import mean_squared_error\n",
    "from sklearn.metrics import explained_variance_score\n",
    "import statsmodels.formula.api as sm\n",
    "\n",
    "#lasso regression\n",
    "from sklearn import linear_model\n",
    "\n",
    "#f_regression (feature selection)\n",
    "from sklearn.feature_selection import f_regression\n",
    "from sklearn.feature_selection import SelectKBest\n",
    "\n",
    "# recursive feature selection (feature selection)\n",
    "from sklearn.feature_selection import RFE\n",
    "\n",
    "#import decisiontreeclassifier\n",
    "from sklearn import tree\n",
    "from sklearn.tree import DecisionTreeClassifier\n",
    "#import logisticregression classifier\n",
    "from sklearn.linear_model import LogisticRegression\n",
    "import statsmodels.api as sm\n",
    "#import knn classifier\n",
    "from sklearn.neighbors import KNeighborsClassifier\n",
    "\n",
    "from sklearn import svm\n",
    "from sklearn.neural_network import MLPClassifier\n",
    "\n",
    "#ensemble classifier\n",
    "from sklearn.ensemble import RandomForestClassifier\n",
    "from sklearn.ensemble import GradientBoostingClassifier  #GBM algorithm\n",
    "\n",
    "from sklearn.metrics import classification_report, f1_score, accuracy_score, confusion_matrix\n",
    "from sklearn.model_selection import StratifiedKFold, cross_val_score, train_test_split, GridSearchCV, RandomizedSearchCV \n",
    "from sklearn import metrics\n",
    "from sklearn.metrics import roc_auc_score, auc\n",
    "\n",
    "# feature selection\n",
    "from sklearn.feature_selection import RFE\n",
    "from sklearn.ensemble import ExtraTreesClassifier\n",
    "from sklearn.feature_selection import SelectKBest\n",
    "from sklearn.feature_selection import chi2"
   ]
  },
  {
   "cell_type": "code",
   "execution_count": 2,
   "metadata": {},
   "outputs": [
    {
     "data": {
      "text/html": [
       "<div>\n",
       "<style>\n",
       "    .dataframe thead tr:only-child th {\n",
       "        text-align: right;\n",
       "    }\n",
       "\n",
       "    .dataframe thead th {\n",
       "        text-align: left;\n",
       "    }\n",
       "\n",
       "    .dataframe tbody tr th {\n",
       "        vertical-align: top;\n",
       "    }\n",
       "</style>\n",
       "<table border=\"1\" class=\"dataframe\">\n",
       "  <thead>\n",
       "    <tr style=\"text-align: right;\">\n",
       "      <th></th>\n",
       "      <th>FAKEID</th>\n",
       "      <th>Y2defect</th>\n",
       "      <th>Y1G5</th>\n",
       "      <th>Y1G4</th>\n",
       "      <th>Y1G3</th>\n",
       "      <th>Y1G2</th>\n",
       "      <th>Y1G1</th>\n",
       "      <th>Y1price</th>\n",
       "      <th>YEARS</th>\n",
       "      <th>BACKER</th>\n",
       "      <th>AGE</th>\n",
       "      <th>INCOME</th>\n",
       "      <th>CHILD</th>\n",
       "      <th>GNDR</th>\n",
       "      <th>OWNHOME</th>\n",
       "      <th>SPORT</th>\n",
       "      <th>COMP</th>\n",
       "      <th>PCTMARR</th>\n",
       "      <th>HOMEVAL</th>\n",
       "    </tr>\n",
       "  </thead>\n",
       "  <tbody>\n",
       "    <tr>\n",
       "      <th>0</th>\n",
       "      <td>580V74KT</td>\n",
       "      <td>0</td>\n",
       "      <td>0</td>\n",
       "      <td>0</td>\n",
       "      <td>1</td>\n",
       "      <td>1</td>\n",
       "      <td>1</td>\n",
       "      <td>15</td>\n",
       "      <td>8</td>\n",
       "      <td>1</td>\n",
       "      <td>94</td>\n",
       "      <td>4</td>\n",
       "      <td>NaN</td>\n",
       "      <td>0</td>\n",
       "      <td>1</td>\n",
       "      <td>NaN</td>\n",
       "      <td></td>\n",
       "      <td>77</td>\n",
       "      <td>203</td>\n",
       "    </tr>\n",
       "    <tr>\n",
       "      <th>1</th>\n",
       "      <td>298S54OK</td>\n",
       "      <td>1</td>\n",
       "      <td>0</td>\n",
       "      <td>0</td>\n",
       "      <td>1</td>\n",
       "      <td>0</td>\n",
       "      <td>1</td>\n",
       "      <td>15</td>\n",
       "      <td>3</td>\n",
       "      <td>1</td>\n",
       "      <td></td>\n",
       "      <td></td>\n",
       "      <td>NaN</td>\n",
       "      <td>0</td>\n",
       "      <td>0</td>\n",
       "      <td>NaN</td>\n",
       "      <td>1</td>\n",
       "      <td>53</td>\n",
       "      <td>68</td>\n",
       "    </tr>\n",
       "    <tr>\n",
       "      <th>2</th>\n",
       "      <td>268D25AO</td>\n",
       "      <td>1</td>\n",
       "      <td>1</td>\n",
       "      <td>0</td>\n",
       "      <td>0</td>\n",
       "      <td>0</td>\n",
       "      <td>1</td>\n",
       "      <td>15</td>\n",
       "      <td>11</td>\n",
       "      <td>1</td>\n",
       "      <td>67</td>\n",
       "      <td>2</td>\n",
       "      <td>NaN</td>\n",
       "      <td>0</td>\n",
       "      <td>1</td>\n",
       "      <td>0.0</td>\n",
       "      <td></td>\n",
       "      <td>50</td>\n",
       "      <td>38</td>\n",
       "    </tr>\n",
       "    <tr>\n",
       "      <th>3</th>\n",
       "      <td>312Q12WV</td>\n",
       "      <td>1</td>\n",
       "      <td>1</td>\n",
       "      <td>0</td>\n",
       "      <td>1</td>\n",
       "      <td>0</td>\n",
       "      <td>1</td>\n",
       "      <td>15</td>\n",
       "      <td>4</td>\n",
       "      <td>0</td>\n",
       "      <td>62</td>\n",
       "      <td>4</td>\n",
       "      <td></td>\n",
       "      <td>1</td>\n",
       "      <td>1</td>\n",
       "      <td>0.0</td>\n",
       "      <td>1</td>\n",
       "      <td>60</td>\n",
       "      <td>68</td>\n",
       "    </tr>\n",
       "    <tr>\n",
       "      <th>4</th>\n",
       "      <td>420R23VB</td>\n",
       "      <td>0</td>\n",
       "      <td>0</td>\n",
       "      <td>0</td>\n",
       "      <td>1</td>\n",
       "      <td>0</td>\n",
       "      <td>0</td>\n",
       "      <td>15</td>\n",
       "      <td>5</td>\n",
       "      <td>0</td>\n",
       "      <td>89</td>\n",
       "      <td>4</td>\n",
       "      <td></td>\n",
       "      <td>1</td>\n",
       "      <td>1</td>\n",
       "      <td>0.0</td>\n",
       "      <td></td>\n",
       "      <td>65</td>\n",
       "      <td>194</td>\n",
       "    </tr>\n",
       "  </tbody>\n",
       "</table>\n",
       "</div>"
      ],
      "text/plain": [
       "     FAKEID  Y2defect  Y1G5  Y1G4  Y1G3  Y1G2  Y1G1  Y1price  YEARS  BACKER  \\\n",
       "0  580V74KT         0     0     0     1     1     1       15      8       1   \n",
       "1  298S54OK         1     0     0     1     0     1       15      3       1   \n",
       "2  268D25AO         1     1     0     0     0     1       15     11       1   \n",
       "3  312Q12WV         1     1     0     1     0     1       15      4       0   \n",
       "4  420R23VB         0     0     0     1     0     0       15      5       0   \n",
       "\n",
       "  AGE INCOME CHILD GNDR OWNHOME  SPORT COMP  PCTMARR  HOMEVAL  \n",
       "0  94      4   NaN    0       1    NaN            77      203  \n",
       "1              NaN    0       0    NaN    1       53       68  \n",
       "2  67      2   NaN    0       1    0.0            50       38  \n",
       "3  62      4          1       1    0.0    1       60       68  \n",
       "4  89      4          1       1    0.0            65      194  "
      ]
     },
     "execution_count": 2,
     "metadata": {},
     "output_type": "execute_result"
    }
   ],
   "source": [
    "df = pd.read_excel(\"data/train_test_dataset.xlsx\")\n",
    "df.head()"
   ]
  },
  {
   "cell_type": "code",
   "execution_count": 3,
   "metadata": {},
   "outputs": [
    {
     "name": "stdout",
     "output_type": "stream",
     "text": [
      "<class 'pandas.core.frame.DataFrame'>\n",
      "RangeIndex: 9216 entries, 0 to 9215\n",
      "Data columns (total 19 columns):\n",
      "FAKEID      9216 non-null object\n",
      "Y2defect    9216 non-null int64\n",
      "Y1G5        9216 non-null int64\n",
      "Y1G4        9216 non-null int64\n",
      "Y1G3        9216 non-null int64\n",
      "Y1G2        9216 non-null int64\n",
      "Y1G1        9216 non-null int64\n",
      "Y1price     9216 non-null int64\n",
      "YEARS       9216 non-null int64\n",
      "BACKER      9216 non-null int64\n",
      "AGE         9216 non-null object\n",
      "INCOME      9216 non-null object\n",
      "CHILD       4549 non-null object\n",
      "GNDR        9216 non-null object\n",
      "OWNHOME     9216 non-null object\n",
      "SPORT       4273 non-null float64\n",
      "COMP        9216 non-null object\n",
      "PCTMARR     9216 non-null int64\n",
      "HOMEVAL     9216 non-null int64\n",
      "dtypes: float64(1), int64(11), object(7)\n",
      "memory usage: 1.3+ MB\n"
     ]
    }
   ],
   "source": [
    "df.info()"
   ]
  },
  {
   "cell_type": "code",
   "execution_count": 4,
   "metadata": {},
   "outputs": [
    {
     "data": {
      "text/plain": [
       "FAKEID         0\n",
       "Y2defect       0\n",
       "Y1G5           0\n",
       "Y1G4           0\n",
       "Y1G3           0\n",
       "Y1G2           0\n",
       "Y1G1           0\n",
       "Y1price        0\n",
       "YEARS          0\n",
       "BACKER         0\n",
       "AGE            0\n",
       "INCOME         0\n",
       "CHILD       4667\n",
       "GNDR           0\n",
       "OWNHOME        0\n",
       "SPORT       4943\n",
       "COMP           0\n",
       "PCTMARR        0\n",
       "HOMEVAL        0\n",
       "dtype: int64"
      ]
     },
     "execution_count": 4,
     "metadata": {},
     "output_type": "execute_result"
    }
   ],
   "source": [
    "df.isnull().sum()"
   ]
  },
  {
   "cell_type": "code",
   "execution_count": 5,
   "metadata": {
    "collapsed": true
   },
   "outputs": [],
   "source": [
    "df = df.drop('CHILD', axis=1)\n",
    "df = df.drop('SPORT', axis=1)\n",
    "df = df.drop('COMP', axis=1)\n",
    "df1 = df.drop('FAKEID', axis=1)"
   ]
  },
  {
   "cell_type": "code",
   "execution_count": 6,
   "metadata": {
    "collapsed": true
   },
   "outputs": [],
   "source": [
    "df1['AGE'] = pd.to_numeric(df1['AGE'], errors='coerce')\n",
    "df1['INCOME'] = pd.to_numeric(df1['INCOME'], errors='coerce')\n",
    "df1['GNDR'] = pd.to_numeric(df1['GNDR'], errors='coerce')\n",
    "df1['OWNHOME'] = pd.to_numeric(df1['OWNHOME'], errors='coerce')"
   ]
  },
  {
   "cell_type": "code",
   "execution_count": 7,
   "metadata": {},
   "outputs": [
    {
     "data": {
      "text/plain": [
       "Y2defect       0\n",
       "Y1G5           0\n",
       "Y1G4           0\n",
       "Y1G3           0\n",
       "Y1G2           0\n",
       "Y1G1           0\n",
       "Y1price        0\n",
       "YEARS          0\n",
       "BACKER         0\n",
       "AGE         1993\n",
       "INCOME      1944\n",
       "GNDR         498\n",
       "OWNHOME     1999\n",
       "PCTMARR        0\n",
       "HOMEVAL        0\n",
       "dtype: int64"
      ]
     },
     "execution_count": 7,
     "metadata": {},
     "output_type": "execute_result"
    }
   ],
   "source": [
    "df1.isnull().sum()"
   ]
  },
  {
   "cell_type": "code",
   "execution_count": 8,
   "metadata": {
    "collapsed": true
   },
   "outputs": [],
   "source": [
    "age = df1['AGE'].median()\n",
    "income = df1['INCOME'].median()"
   ]
  },
  {
   "cell_type": "code",
   "execution_count": 9,
   "metadata": {
    "collapsed": true
   },
   "outputs": [],
   "source": [
    "df1.GNDR.fillna(2, inplace=True)\n",
    "df1.OWNHOME.fillna(2, inplace=True)\n",
    "df1.AGE.fillna(age, inplace=True)\n",
    "df1.INCOME.fillna(income, inplace=True)"
   ]
  },
  {
   "cell_type": "code",
   "execution_count": 10,
   "metadata": {},
   "outputs": [
    {
     "data": {
      "text/html": [
       "<div>\n",
       "<style>\n",
       "    .dataframe thead tr:only-child th {\n",
       "        text-align: right;\n",
       "    }\n",
       "\n",
       "    .dataframe thead th {\n",
       "        text-align: left;\n",
       "    }\n",
       "\n",
       "    .dataframe tbody tr th {\n",
       "        vertical-align: top;\n",
       "    }\n",
       "</style>\n",
       "<table border=\"1\" class=\"dataframe\">\n",
       "  <thead>\n",
       "    <tr style=\"text-align: right;\">\n",
       "      <th></th>\n",
       "      <th>Y2defect</th>\n",
       "      <th>Y1G5</th>\n",
       "      <th>Y1G4</th>\n",
       "      <th>Y1G3</th>\n",
       "      <th>Y1G2</th>\n",
       "      <th>Y1G1</th>\n",
       "      <th>Y1price</th>\n",
       "      <th>YEARS</th>\n",
       "      <th>BACKER</th>\n",
       "      <th>AGE</th>\n",
       "      <th>INCOME</th>\n",
       "      <th>GNDR</th>\n",
       "      <th>OWNHOME</th>\n",
       "      <th>PCTMARR</th>\n",
       "      <th>HOMEVAL</th>\n",
       "    </tr>\n",
       "  </thead>\n",
       "  <tbody>\n",
       "    <tr>\n",
       "      <th>0</th>\n",
       "      <td>0</td>\n",
       "      <td>0</td>\n",
       "      <td>0</td>\n",
       "      <td>1</td>\n",
       "      <td>1</td>\n",
       "      <td>1</td>\n",
       "      <td>15</td>\n",
       "      <td>8</td>\n",
       "      <td>1</td>\n",
       "      <td>94.0</td>\n",
       "      <td>4.0</td>\n",
       "      <td>0.0</td>\n",
       "      <td>1.0</td>\n",
       "      <td>77</td>\n",
       "      <td>203</td>\n",
       "    </tr>\n",
       "    <tr>\n",
       "      <th>1</th>\n",
       "      <td>1</td>\n",
       "      <td>0</td>\n",
       "      <td>0</td>\n",
       "      <td>1</td>\n",
       "      <td>0</td>\n",
       "      <td>1</td>\n",
       "      <td>15</td>\n",
       "      <td>3</td>\n",
       "      <td>1</td>\n",
       "      <td>63.0</td>\n",
       "      <td>3.0</td>\n",
       "      <td>0.0</td>\n",
       "      <td>0.0</td>\n",
       "      <td>53</td>\n",
       "      <td>68</td>\n",
       "    </tr>\n",
       "    <tr>\n",
       "      <th>2</th>\n",
       "      <td>1</td>\n",
       "      <td>1</td>\n",
       "      <td>0</td>\n",
       "      <td>0</td>\n",
       "      <td>0</td>\n",
       "      <td>1</td>\n",
       "      <td>15</td>\n",
       "      <td>11</td>\n",
       "      <td>1</td>\n",
       "      <td>67.0</td>\n",
       "      <td>2.0</td>\n",
       "      <td>0.0</td>\n",
       "      <td>1.0</td>\n",
       "      <td>50</td>\n",
       "      <td>38</td>\n",
       "    </tr>\n",
       "    <tr>\n",
       "      <th>3</th>\n",
       "      <td>1</td>\n",
       "      <td>1</td>\n",
       "      <td>0</td>\n",
       "      <td>1</td>\n",
       "      <td>0</td>\n",
       "      <td>1</td>\n",
       "      <td>15</td>\n",
       "      <td>4</td>\n",
       "      <td>0</td>\n",
       "      <td>62.0</td>\n",
       "      <td>4.0</td>\n",
       "      <td>1.0</td>\n",
       "      <td>1.0</td>\n",
       "      <td>60</td>\n",
       "      <td>68</td>\n",
       "    </tr>\n",
       "    <tr>\n",
       "      <th>4</th>\n",
       "      <td>0</td>\n",
       "      <td>0</td>\n",
       "      <td>0</td>\n",
       "      <td>1</td>\n",
       "      <td>0</td>\n",
       "      <td>0</td>\n",
       "      <td>15</td>\n",
       "      <td>5</td>\n",
       "      <td>0</td>\n",
       "      <td>89.0</td>\n",
       "      <td>4.0</td>\n",
       "      <td>1.0</td>\n",
       "      <td>1.0</td>\n",
       "      <td>65</td>\n",
       "      <td>194</td>\n",
       "    </tr>\n",
       "  </tbody>\n",
       "</table>\n",
       "</div>"
      ],
      "text/plain": [
       "   Y2defect  Y1G5  Y1G4  Y1G3  Y1G2  Y1G1  Y1price  YEARS  BACKER   AGE  \\\n",
       "0         0     0     0     1     1     1       15      8       1  94.0   \n",
       "1         1     0     0     1     0     1       15      3       1  63.0   \n",
       "2         1     1     0     0     0     1       15     11       1  67.0   \n",
       "3         1     1     0     1     0     1       15      4       0  62.0   \n",
       "4         0     0     0     1     0     0       15      5       0  89.0   \n",
       "\n",
       "   INCOME  GNDR  OWNHOME  PCTMARR  HOMEVAL  \n",
       "0     4.0   0.0      1.0       77      203  \n",
       "1     3.0   0.0      0.0       53       68  \n",
       "2     2.0   0.0      1.0       50       38  \n",
       "3     4.0   1.0      1.0       60       68  \n",
       "4     4.0   1.0      1.0       65      194  "
      ]
     },
     "execution_count": 10,
     "metadata": {},
     "output_type": "execute_result"
    }
   ],
   "source": [
    "df1.head()"
   ]
  },
  {
   "cell_type": "code",
   "execution_count": 11,
   "metadata": {},
   "outputs": [
    {
     "data": {
      "text/plain": [
       "Y2defect    0\n",
       "Y1G5        0\n",
       "Y1G4        0\n",
       "Y1G3        0\n",
       "Y1G2        0\n",
       "Y1G1        0\n",
       "Y1price     0\n",
       "YEARS       0\n",
       "BACKER      0\n",
       "AGE         0\n",
       "INCOME      0\n",
       "GNDR        0\n",
       "OWNHOME     0\n",
       "PCTMARR     0\n",
       "HOMEVAL     0\n",
       "dtype: int64"
      ]
     },
     "execution_count": 11,
     "metadata": {},
     "output_type": "execute_result"
    }
   ],
   "source": [
    "df1.isnull().sum()"
   ]
  },
  {
   "cell_type": "code",
   "execution_count": 12,
   "metadata": {},
   "outputs": [
    {
     "name": "stdout",
     "output_type": "stream",
     "text": [
      "<class 'pandas.core.frame.DataFrame'>\n",
      "RangeIndex: 9216 entries, 0 to 9215\n",
      "Data columns (total 15 columns):\n",
      "Y2defect    9216 non-null int64\n",
      "Y1G5        9216 non-null int64\n",
      "Y1G4        9216 non-null int64\n",
      "Y1G3        9216 non-null int64\n",
      "Y1G2        9216 non-null int64\n",
      "Y1G1        9216 non-null int64\n",
      "Y1price     9216 non-null int64\n",
      "YEARS       9216 non-null int64\n",
      "BACKER      9216 non-null int64\n",
      "AGE         9216 non-null float64\n",
      "INCOME      9216 non-null float64\n",
      "GNDR        9216 non-null float64\n",
      "OWNHOME     9216 non-null float64\n",
      "PCTMARR     9216 non-null int64\n",
      "HOMEVAL     9216 non-null int64\n",
      "dtypes: float64(4), int64(11)\n",
      "memory usage: 1.1 MB\n"
     ]
    }
   ],
   "source": [
    "df1.info()"
   ]
  },
  {
   "cell_type": "code",
   "execution_count": 13,
   "metadata": {},
   "outputs": [
    {
     "data": {
      "text/plain": [
       "<matplotlib.axes._subplots.AxesSubplot at 0xfc68eb8>"
      ]
     },
     "execution_count": 13,
     "metadata": {},
     "output_type": "execute_result"
    },
    {
     "data": {
      "image/png": "[encoded data removed]",
      "text/plain": [
       "<matplotlib.figure.Figure at 0xf6b6518>"
      ]
     },
     "metadata": {},
     "output_type": "display_data"
    }
   ],
   "source": [
    "# correlation heatmap\n",
    "plt.figure(figsize=(12,8))\n",
    "sns.heatmap(df1.corr(), annot=True)"
   ]
  },
  {
   "cell_type": "markdown",
   "metadata": {},
   "source": [
    "## Model Developement"
   ]
  },
  {
   "cell_type": "code",
   "execution_count": 14,
   "metadata": {
    "collapsed": true
   },
   "outputs": [],
   "source": [
    "# declare X variables and y variable\n",
    "y = df1['Y2defect']\n",
    "X = df1[['BACKER', 'YEARS', 'Y1G1', 'Y1G2']]"
   ]
  },
  {
   "cell_type": "code",
   "execution_count": 15,
   "metadata": {},
   "outputs": [
    {
     "name": "stdout",
     "output_type": "stream",
     "text": [
      "0.619305856833\n",
      "[[335 119]\n",
      " [232 236]]\n",
      "             precision    recall  f1-score   support\n",
      "\n",
      "          0       0.59      0.74      0.66       454\n",
      "          1       0.66      0.50      0.57       468\n",
      "\n",
      "avg / total       0.63      0.62      0.61       922\n",
      "\n",
      "0.621079483414\n"
     ]
    }
   ],
   "source": [
    "X_train, X_test, y_train, y_test = train_test_split(X, y, test_size=0.1, random_state=0)\n",
    "dt = DecisionTreeClassifier()\n",
    "dt.fit(X_train, y_train)\n",
    "print metrics.accuracy_score(y_test, dt.predict(X_test))\n",
    "print metrics.confusion_matrix(y_test, dt.predict(X_test))\n",
    "print metrics.classification_report(y_test, dt.predict(X_test))\n",
    "print metrics.roc_auc_score(y_test, dt.predict(X_test))"
   ]
  },
  {
   "cell_type": "markdown",
   "metadata": {},
   "source": [
    "##### This model is 62.1% accurate"
   ]
  },
  {
   "cell_type": "markdown",
   "metadata": {},
   "source": [
    "## Model Deployment & Prepare Entry Data"
   ]
  },
  {
   "cell_type": "code",
   "execution_count": 16,
   "metadata": {},
   "outputs": [
    {
     "data": {
      "text/html": [
       "<div>\n",
       "<style>\n",
       "    .dataframe thead tr:only-child th {\n",
       "        text-align: right;\n",
       "    }\n",
       "\n",
       "    .dataframe thead th {\n",
       "        text-align: left;\n",
       "    }\n",
       "\n",
       "    .dataframe tbody tr th {\n",
       "        vertical-align: top;\n",
       "    }\n",
       "</style>\n",
       "<table border=\"1\" class=\"dataframe\">\n",
       "  <thead>\n",
       "    <tr style=\"text-align: right;\">\n",
       "      <th></th>\n",
       "      <th>FAKEID</th>\n",
       "      <th>Y3defect</th>\n",
       "      <th>Y2G5</th>\n",
       "      <th>Y2G4</th>\n",
       "      <th>Y2G3</th>\n",
       "      <th>Y2G2</th>\n",
       "      <th>Y2G1</th>\n",
       "      <th>Y2price</th>\n",
       "      <th>YEARS</th>\n",
       "      <th>BACKER</th>\n",
       "      <th>AGE</th>\n",
       "      <th>INCOME</th>\n",
       "      <th>CHILD</th>\n",
       "      <th>GNDR</th>\n",
       "      <th>OWNHOME</th>\n",
       "      <th>SPORT</th>\n",
       "      <th>COMP</th>\n",
       "      <th>PCTMARR</th>\n",
       "      <th>HOMEVAL</th>\n",
       "    </tr>\n",
       "  </thead>\n",
       "  <tbody>\n",
       "    <tr>\n",
       "      <th>0</th>\n",
       "      <td>580D24RR</td>\n",
       "      <td>NaN</td>\n",
       "      <td>0</td>\n",
       "      <td>0</td>\n",
       "      <td>1</td>\n",
       "      <td>1</td>\n",
       "      <td>0</td>\n",
       "      <td>15</td>\n",
       "      <td>5</td>\n",
       "      <td>0</td>\n",
       "      <td>49.0</td>\n",
       "      <td>4</td>\n",
       "      <td>NaN</td>\n",
       "      <td>0</td>\n",
       "      <td>1</td>\n",
       "      <td>0.0</td>\n",
       "      <td></td>\n",
       "      <td>66</td>\n",
       "      <td>64</td>\n",
       "    </tr>\n",
       "    <tr>\n",
       "      <th>1</th>\n",
       "      <td>179Q96NO</td>\n",
       "      <td>NaN</td>\n",
       "      <td>1</td>\n",
       "      <td>1</td>\n",
       "      <td>1</td>\n",
       "      <td>1</td>\n",
       "      <td>1</td>\n",
       "      <td>25</td>\n",
       "      <td>9</td>\n",
       "      <td>1</td>\n",
       "      <td>84.0</td>\n",
       "      <td>5</td>\n",
       "      <td></td>\n",
       "      <td>0</td>\n",
       "      <td></td>\n",
       "      <td>0.0</td>\n",
       "      <td></td>\n",
       "      <td>67</td>\n",
       "      <td>128</td>\n",
       "    </tr>\n",
       "    <tr>\n",
       "      <th>2</th>\n",
       "      <td>050Z45TB</td>\n",
       "      <td>NaN</td>\n",
       "      <td>1</td>\n",
       "      <td>0</td>\n",
       "      <td>1</td>\n",
       "      <td>1</td>\n",
       "      <td>0</td>\n",
       "      <td>15</td>\n",
       "      <td>5</td>\n",
       "      <td>1</td>\n",
       "      <td>NaN</td>\n",
       "      <td></td>\n",
       "      <td>NaN</td>\n",
       "      <td>0</td>\n",
       "      <td>0</td>\n",
       "      <td>NaN</td>\n",
       "      <td>1</td>\n",
       "      <td>52</td>\n",
       "      <td>113</td>\n",
       "    </tr>\n",
       "    <tr>\n",
       "      <th>3</th>\n",
       "      <td>399V18KY</td>\n",
       "      <td>NaN</td>\n",
       "      <td>0</td>\n",
       "      <td>0</td>\n",
       "      <td>1</td>\n",
       "      <td>1</td>\n",
       "      <td>0</td>\n",
       "      <td>15</td>\n",
       "      <td>1</td>\n",
       "      <td>0</td>\n",
       "      <td>34.0</td>\n",
       "      <td>4</td>\n",
       "      <td>1</td>\n",
       "      <td>0</td>\n",
       "      <td>1</td>\n",
       "      <td>NaN</td>\n",
       "      <td></td>\n",
       "      <td>65</td>\n",
       "      <td>81</td>\n",
       "    </tr>\n",
       "    <tr>\n",
       "      <th>4</th>\n",
       "      <td>009A52KP</td>\n",
       "      <td>NaN</td>\n",
       "      <td>0</td>\n",
       "      <td>1</td>\n",
       "      <td>0</td>\n",
       "      <td>1</td>\n",
       "      <td>0</td>\n",
       "      <td>25</td>\n",
       "      <td>9</td>\n",
       "      <td>1</td>\n",
       "      <td>59.0</td>\n",
       "      <td>4</td>\n",
       "      <td>NaN</td>\n",
       "      <td>1</td>\n",
       "      <td>1</td>\n",
       "      <td>0.0</td>\n",
       "      <td></td>\n",
       "      <td>65</td>\n",
       "      <td>110</td>\n",
       "    </tr>\n",
       "  </tbody>\n",
       "</table>\n",
       "</div>"
      ],
      "text/plain": [
       "     FAKEID  Y3defect  Y2G5  Y2G4  Y2G3  Y2G2  Y2G1  Y2price  YEARS  BACKER  \\\n",
       "0  580D24RR       NaN     0     0     1     1     0       15      5       0   \n",
       "1  179Q96NO       NaN     1     1     1     1     1       25      9       1   \n",
       "2  050Z45TB       NaN     1     0     1     1     0       15      5       1   \n",
       "3  399V18KY       NaN     0     0     1     1     0       15      1       0   \n",
       "4  009A52KP       NaN     0     1     0     1     0       25      9       1   \n",
       "\n",
       "    AGE INCOME CHILD GNDR OWNHOME  SPORT COMP  PCTMARR  HOMEVAL  \n",
       "0  49.0      4   NaN    0       1    0.0            66       64  \n",
       "1  84.0      5          0            0.0            67      128  \n",
       "2   NaN          NaN    0       0    NaN    1       52      113  \n",
       "3  34.0      4     1    0       1    NaN            65       81  \n",
       "4  59.0      4   NaN    1       1    0.0            65      110  "
      ]
     },
     "execution_count": 16,
     "metadata": {},
     "output_type": "execute_result"
    }
   ],
   "source": [
    "df2 = pd.read_excel(\"data/validation_dataset.xlsx\")\n",
    "df2.head()"
   ]
  },
  {
   "cell_type": "code",
   "execution_count": 17,
   "metadata": {},
   "outputs": [
    {
     "name": "stdout",
     "output_type": "stream",
     "text": [
      "<class 'pandas.core.frame.DataFrame'>\n",
      "RangeIndex: 9542 entries, 0 to 9541\n",
      "Data columns (total 19 columns):\n",
      "FAKEID      9542 non-null object\n",
      "Y3defect    0 non-null float64\n",
      "Y2G5        9542 non-null int64\n",
      "Y2G4        9542 non-null int64\n",
      "Y2G3        9542 non-null int64\n",
      "Y2G2        9542 non-null int64\n",
      "Y2G1        9542 non-null int64\n",
      "Y2price     9542 non-null int64\n",
      "YEARS       9542 non-null int64\n",
      "BACKER      9542 non-null int64\n",
      "AGE         7055 non-null float64\n",
      "INCOME      9542 non-null object\n",
      "CHILD       4810 non-null object\n",
      "GNDR        9542 non-null object\n",
      "OWNHOME     9542 non-null object\n",
      "SPORT       4180 non-null float64\n",
      "COMP        9542 non-null object\n",
      "PCTMARR     9542 non-null int64\n",
      "HOMEVAL     9542 non-null int64\n",
      "dtypes: float64(3), int64(10), object(6)\n",
      "memory usage: 1.4+ MB\n"
     ]
    }
   ],
   "source": [
    "df2.info()"
   ]
  },
  {
   "cell_type": "code",
   "execution_count": 18,
   "metadata": {},
   "outputs": [
    {
     "data": {
      "text/plain": [
       "FAKEID         0\n",
       "Y3defect    9542\n",
       "Y2G5           0\n",
       "Y2G4           0\n",
       "Y2G3           0\n",
       "Y2G2           0\n",
       "Y2G1           0\n",
       "Y2price        0\n",
       "YEARS          0\n",
       "BACKER         0\n",
       "AGE         2487\n",
       "INCOME         0\n",
       "CHILD       4732\n",
       "GNDR           0\n",
       "OWNHOME        0\n",
       "SPORT       5362\n",
       "COMP           0\n",
       "PCTMARR        0\n",
       "HOMEVAL        0\n",
       "dtype: int64"
      ]
     },
     "execution_count": 18,
     "metadata": {},
     "output_type": "execute_result"
    }
   ],
   "source": [
    "df2.isnull().sum()"
   ]
  },
  {
   "cell_type": "code",
   "execution_count": 19,
   "metadata": {
    "collapsed": true
   },
   "outputs": [],
   "source": [
    "df2 = df2.drop('CHILD', axis=1)\n",
    "df2 = df2.drop('SPORT', axis=1)\n",
    "df3 = df2.drop('COMP', axis=1)"
   ]
  },
  {
   "cell_type": "code",
   "execution_count": 20,
   "metadata": {
    "collapsed": true
   },
   "outputs": [],
   "source": [
    "df3['AGE'] = pd.to_numeric(df3['AGE'], errors='coerce')\n",
    "df3['INCOME'] = pd.to_numeric(df3['INCOME'], errors='coerce')\n",
    "df3['GNDR'] = pd.to_numeric(df3['GNDR'], errors='coerce')\n",
    "df3['OWNHOME'] = pd.to_numeric(df3['OWNHOME'], errors='coerce')"
   ]
  },
  {
   "cell_type": "code",
   "execution_count": 21,
   "metadata": {
    "collapsed": true
   },
   "outputs": [],
   "source": [
    "age = df3['AGE'].median()\n",
    "income = df3['INCOME'].median()\n",
    "df3.GNDR.fillna(2, inplace=True)\n",
    "df3.OWNHOME.fillna(2, inplace=True)\n",
    "df3.AGE.fillna(age, inplace=True)\n",
    "df3.INCOME.fillna(income, inplace=True)"
   ]
  },
  {
   "cell_type": "code",
   "execution_count": 22,
   "metadata": {},
   "outputs": [
    {
     "name": "stdout",
     "output_type": "stream",
     "text": [
      "<class 'pandas.core.frame.DataFrame'>\n",
      "RangeIndex: 9542 entries, 0 to 9541\n",
      "Data columns (total 16 columns):\n",
      "FAKEID      9542 non-null object\n",
      "Y3defect    0 non-null float64\n",
      "Y2G5        9542 non-null int64\n",
      "Y2G4        9542 non-null int64\n",
      "Y2G3        9542 non-null int64\n",
      "Y2G2        9542 non-null int64\n",
      "Y2G1        9542 non-null int64\n",
      "Y2price     9542 non-null int64\n",
      "YEARS       9542 non-null int64\n",
      "BACKER      9542 non-null int64\n",
      "AGE         9542 non-null float64\n",
      "INCOME      9542 non-null float64\n",
      "GNDR        9542 non-null float64\n",
      "OWNHOME     9542 non-null float64\n",
      "PCTMARR     9542 non-null int64\n",
      "HOMEVAL     9542 non-null int64\n",
      "dtypes: float64(5), int64(10), object(1)\n",
      "memory usage: 1.2+ MB\n"
     ]
    }
   ],
   "source": [
    "df3.info()"
   ]
  },
  {
   "cell_type": "code",
   "execution_count": 23,
   "metadata": {},
   "outputs": [
    {
     "name": "stdout",
     "output_type": "stream",
     "text": [
      "<class 'pandas.core.frame.DataFrame'>\n",
      "RangeIndex: 9542 entries, 0 to 9541\n",
      "Data columns (total 4 columns):\n",
      "BACKER    9542 non-null int64\n",
      "YEARS     9542 non-null int64\n",
      "Y2G1      9542 non-null int64\n",
      "Y2G2      9542 non-null int64\n",
      "dtypes: int64(4)\n",
      "memory usage: 298.3 KB\n"
     ]
    }
   ],
   "source": [
    "validation = df3[['BACKER', 'YEARS', 'Y2G1', 'Y2G2']]\n",
    "validation.info()"
   ]
  },
  {
   "cell_type": "code",
   "execution_count": 24,
   "metadata": {},
   "outputs": [
    {
     "data": {
      "text/plain": [
       "FAKEID         0\n",
       "Y3defect    9542\n",
       "Y2G5           0\n",
       "Y2G4           0\n",
       "Y2G3           0\n",
       "Y2G2           0\n",
       "Y2G1           0\n",
       "Y2price        0\n",
       "YEARS          0\n",
       "BACKER         0\n",
       "AGE            0\n",
       "INCOME         0\n",
       "GNDR           0\n",
       "OWNHOME        0\n",
       "PCTMARR        0\n",
       "HOMEVAL        0\n",
       "dtype: int64"
      ]
     },
     "execution_count": 24,
     "metadata": {},
     "output_type": "execute_result"
    }
   ],
   "source": [
    "df3.isnull().sum()"
   ]
  },
  {
   "cell_type": "code",
   "execution_count": 25,
   "metadata": {},
   "outputs": [
    {
     "data": {
      "text/html": [
       "<div>\n",
       "<style>\n",
       "    .dataframe thead tr:only-child th {\n",
       "        text-align: right;\n",
       "    }\n",
       "\n",
       "    .dataframe thead th {\n",
       "        text-align: left;\n",
       "    }\n",
       "\n",
       "    .dataframe tbody tr th {\n",
       "        vertical-align: top;\n",
       "    }\n",
       "</style>\n",
       "<table border=\"1\" class=\"dataframe\">\n",
       "  <thead>\n",
       "    <tr style=\"text-align: right;\">\n",
       "      <th></th>\n",
       "      <th>FAKEID</th>\n",
       "    </tr>\n",
       "  </thead>\n",
       "  <tbody>\n",
       "    <tr>\n",
       "      <th>0</th>\n",
       "      <td>580D24RR</td>\n",
       "    </tr>\n",
       "    <tr>\n",
       "      <th>1</th>\n",
       "      <td>179Q96NO</td>\n",
       "    </tr>\n",
       "    <tr>\n",
       "      <th>2</th>\n",
       "      <td>050Z45TB</td>\n",
       "    </tr>\n",
       "    <tr>\n",
       "      <th>3</th>\n",
       "      <td>399V18KY</td>\n",
       "    </tr>\n",
       "    <tr>\n",
       "      <th>4</th>\n",
       "      <td>009A52KP</td>\n",
       "    </tr>\n",
       "  </tbody>\n",
       "</table>\n",
       "</div>"
      ],
      "text/plain": [
       "     FAKEID\n",
       "0  580D24RR\n",
       "1  179Q96NO\n",
       "2  050Z45TB\n",
       "3  399V18KY\n",
       "4  009A52KP"
      ]
     },
     "execution_count": 25,
     "metadata": {},
     "output_type": "execute_result"
    }
   ],
   "source": [
    "fakeid = pd.DataFrame(df3['FAKEID'])\n",
    "fakeid.head()"
   ]
  },
  {
   "cell_type": "code",
   "execution_count": 26,
   "metadata": {
    "collapsed": true
   },
   "outputs": [],
   "source": [
    "output = dt.predict(validation)"
   ]
  },
  {
   "cell_type": "code",
   "execution_count": 27,
   "metadata": {
    "collapsed": true
   },
   "outputs": [],
   "source": [
    "probdef = dt.predict_proba(validation)\n",
    "probdef = pd.DataFrame(probdef, columns=['Probability of Renewal', 'Probability of Defect'])"
   ]
  },
  {
   "cell_type": "code",
   "execution_count": 28,
   "metadata": {
    "collapsed": true
   },
   "outputs": [],
   "source": [
    "deffans = fakeid.join(probdef)"
   ]
  },
  {
   "cell_type": "code",
   "execution_count": 29,
   "metadata": {},
   "outputs": [
    {
     "data": {
      "text/html": [
       "<div>\n",
       "<style>\n",
       "    .dataframe thead tr:only-child th {\n",
       "        text-align: right;\n",
       "    }\n",
       "\n",
       "    .dataframe thead th {\n",
       "        text-align: left;\n",
       "    }\n",
       "\n",
       "    .dataframe tbody tr th {\n",
       "        vertical-align: top;\n",
       "    }\n",
       "</style>\n",
       "<table border=\"1\" class=\"dataframe\">\n",
       "  <thead>\n",
       "    <tr style=\"text-align: right;\">\n",
       "      <th></th>\n",
       "      <th>FAKEID</th>\n",
       "      <th>Probability of Renewal</th>\n",
       "      <th>Probability of Defect</th>\n",
       "      <th>Predicted Defect</th>\n",
       "    </tr>\n",
       "  </thead>\n",
       "  <tbody>\n",
       "    <tr>\n",
       "      <th>0</th>\n",
       "      <td>580D24RR</td>\n",
       "      <td>0.531250</td>\n",
       "      <td>0.468750</td>\n",
       "      <td>0</td>\n",
       "    </tr>\n",
       "    <tr>\n",
       "      <th>1</th>\n",
       "      <td>179Q96NO</td>\n",
       "      <td>0.606250</td>\n",
       "      <td>0.393750</td>\n",
       "      <td>0</td>\n",
       "    </tr>\n",
       "    <tr>\n",
       "      <th>2</th>\n",
       "      <td>050Z45TB</td>\n",
       "      <td>0.526316</td>\n",
       "      <td>0.473684</td>\n",
       "      <td>0</td>\n",
       "    </tr>\n",
       "    <tr>\n",
       "      <th>3</th>\n",
       "      <td>399V18KY</td>\n",
       "      <td>0.014423</td>\n",
       "      <td>0.985577</td>\n",
       "      <td>1</td>\n",
       "    </tr>\n",
       "    <tr>\n",
       "      <th>4</th>\n",
       "      <td>009A52KP</td>\n",
       "      <td>0.543478</td>\n",
       "      <td>0.456522</td>\n",
       "      <td>0</td>\n",
       "    </tr>\n",
       "  </tbody>\n",
       "</table>\n",
       "</div>"
      ],
      "text/plain": [
       "     FAKEID  Probability of Renewal  Probability of Defect  Predicted Defect\n",
       "0  580D24RR                0.531250               0.468750                 0\n",
       "1  179Q96NO                0.606250               0.393750                 0\n",
       "2  050Z45TB                0.526316               0.473684                 0\n",
       "3  399V18KY                0.014423               0.985577                 1\n",
       "4  009A52KP                0.543478               0.456522                 0"
      ]
     },
     "execution_count": 29,
     "metadata": {},
     "output_type": "execute_result"
    }
   ],
   "source": [
    "predicted_y = pd.DataFrame(output, columns=['Predicted Defect'])\n",
    "deffans = deffans.join(predicted_y)\n",
    "deffans.head()"
   ]
  },
  {
   "cell_type": "code",
   "execution_count": 30,
   "metadata": {
    "collapsed": true
   },
   "outputs": [],
   "source": [
    "# generating submission file\n",
    "deffans.to_csv(\"data/submissionentry.csv\", index=False)"
   ]
  }
 ],
 "metadata": {
  "kernelspec": {
   "display_name": "Python 2",
   "language": "python",
   "name": "python2"
  },
  "language_info": {
   "codemirror_mode": {
    "name": "ipython",
    "version": 2
   },
   "file_extension": ".py",
   "mimetype": "text/x-python",
   "name": "python",
   "nbconvert_exporter": "python",
   "pygments_lexer": "ipython2",
   "version": "2.7.14"
  }
 },
 "nbformat": 4,
 "nbformat_minor": 2
}
